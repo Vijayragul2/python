{
  "nbformat": 4,
  "nbformat_minor": 0,
  "metadata": {
    "colab": {
      "provenance": []
    },
    "kernelspec": {
      "name": "python3",
      "display_name": "Python 3"
    },
    "language_info": {
      "name": "python"
    }
  },
  "cells": [
    {
      "cell_type": "code",
      "source": [
        "#convert list into dictionary using enumerate\n",
        "\n",
        "list1 = ['1', '2', '3', '4', 'h']\n",
        "\n",
        "list2= {index: value for index, value in enumerate(list1)}\n",
        "print(list2)\n"
      ],
      "metadata": {
        "colab": {
          "base_uri": "https://localhost:8080/"
        },
        "id": "Ud493h1Janqc",
        "outputId": "adb69047-3f8e-4035-9a12-52019d646018"
      },
      "execution_count": null,
      "outputs": [
        {
          "output_type": "stream",
          "name": "stdout",
          "text": [
            "{0: '1', 1: '2', 2: '3', 3: '4', 4: 'h'}\n"
          ]
        }
      ]
    },
    {
      "cell_type": "code",
      "source": [
        "a = [1, 2, 3, 4, 5]\n",
        "\n",
        "def filter_even(i):\n",
        "    return i % 2 == 0\n",
        "output = list(filter(filter_even, a))\n",
        "print(output)\n"
      ],
      "metadata": {
        "colab": {
          "base_uri": "https://localhost:8080/"
        },
        "id": "GaNzZ_xcNruL",
        "outputId": "8807b745-fc64-445c-8a07-203286117c8f"
      },
      "execution_count": 6,
      "outputs": [
        {
          "output_type": "stream",
          "name": "stdout",
          "text": [
            "[2, 4]\n"
          ]
        }
      ]
    },
    {
      "cell_type": "code",
      "source": [],
      "metadata": {
        "id": "fykLEraLgvbc"
      },
      "execution_count": null,
      "outputs": []
    }
  ]
}