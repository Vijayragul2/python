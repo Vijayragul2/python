{
  "nbformat": 4,
  "nbformat_minor": 0,
  "metadata": {
    "colab": {
      "provenance": []
    },
    "kernelspec": {
      "name": "python3",
      "display_name": "Python 3"
    },
    "language_info": {
      "name": "python"
    }
  },
  "cells": [
    {
      "cell_type": "code",
      "source": [
        "#convert list into dictionary using enumerate\n",
        "\n",
        "list1 = ['1', '2', '3', '4', 'h']\n",
        "\n",
        "list2= {index: value for index, value in enumerate(list1)}\n",
        "print(list2)\n"
      ],
      "metadata": {
        "colab": {
          "base_uri": "https://localhost:8080/"
        },
        "id": "Ud493h1Janqc",
        "outputId": "81f8bf2a-7203-4289-bba3-339da54eb1cd"
      },
      "execution_count": 9,
      "outputs": [
        {
          "output_type": "stream",
          "name": "stdout",
          "text": [
            "{0: '1', 1: '2', 2: '3', 3: '4', 4: 'h'}\n"
          ]
        }
      ]
    },
    {
      "cell_type": "code",
      "source": [],
      "metadata": {
        "id": "QGXoXw8bmkT5"
      },
      "execution_count": null,
      "outputs": []
    }
  ]
}