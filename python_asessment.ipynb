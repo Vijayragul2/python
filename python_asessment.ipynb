{
  "nbformat": 4,
  "nbformat_minor": 0,
  "metadata": {
    "colab": {
      "provenance": []
    },
    "kernelspec": {
      "name": "python3",
      "display_name": "Python 3"
    },
    "language_info": {
      "name": "python"
    }
  },
  "cells": [
    {
      "cell_type": "code",
      "execution_count": 1,
      "metadata": {
        "colab": {
          "base_uri": "https://localhost:8080/"
        },
        "id": "nmWY3I7mGqPC",
        "outputId": "76e85e78-249c-4e47-ae6c-5348fcdb3181"
      },
      "outputs": [
        {
          "output_type": "stream",
          "name": "stdout",
          "text": [
            "[1, 4, 9, 16]\n"
          ]
        }
      ],
      "source": [
        "#list1=[1,2,3,4]\n",
        "#output=[2,4,9,16]\n",
        "l2=[]\n",
        "list1=[1,2,3,4]\n",
        "for i in list1:\n",
        "   l2.append(i**2)\n",
        "print(l2)"
      ]
    },
    {
      "cell_type": "code",
      "source": [],
      "metadata": {
        "id": "Y87kxoz2GsKC"
      },
      "execution_count": null,
      "outputs": []
    }
  ]
}